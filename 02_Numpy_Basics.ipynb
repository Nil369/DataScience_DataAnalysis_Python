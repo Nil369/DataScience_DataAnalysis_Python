{
 "cells": [
  {
   "cell_type": "markdown",
   "id": "688abafc-028f-4e86-a9c2-cb3625c5ba29",
   "metadata": {},
   "source": [
    "# WHY TO USE NUMPY ??"
   ]
  },
  {
   "cell_type": "markdown",
   "id": "db783817-4106-49ef-8c95-4a0f35c9bba1",
   "metadata": {},
   "source": [
    "<h2>Numpy is fast</h2> \n",
    "See <b>Python is an interpreted Programming Language</b>(Which means each line is executed one by one) which makes it <b>SLOWER</b>\n",
    "as compared to <b> C / C++ </b> as these Programs are Compiler based which means these are complied first and executed Which is better for computers to understand.\n",
    "\n",
    "\n",
    "🟠Lists in Pythons are basically arrays in C which are linked using Pointer which makes it slower and time consuming for Big Millions and Trillions of data.\n",
    "\n",
    "🔵Here Numpy comes into Play as most of its  its coding is done in C language which makes it faster for handling big data and it takes less time."
   ]
  },
  {
   "cell_type": "code",
   "execution_count": 10,
   "id": "bf7774c4-c261-44de-8435-67a70389293f",
   "metadata": {},
   "outputs": [],
   "source": [
    "import numpy as np"
   ]
  },
  {
   "cell_type": "code",
   "execution_count": 11,
   "id": "3ea0ad2a-98e7-4112-94b6-c838365121d3",
   "metadata": {},
   "outputs": [],
   "source": [
    "arr = np.arange(100000)"
   ]
  },
  {
   "cell_type": "code",
   "execution_count": 12,
   "id": "c23c65c9-5462-4427-8039-1b2d7e080a7c",
   "metadata": {},
   "outputs": [],
   "source": [
    "pylist = list(range(100000))"
   ]
  },
  {
   "cell_type": "code",
   "execution_count": 13,
   "id": "e25bdba6-7e85-40cd-93d6-0d52dfa54fd6",
   "metadata": {},
   "outputs": [
    {
     "name": "stdout",
     "output_type": "stream",
     "text": [
      "CPU times: total: 15.6 ms\n",
      "Wall time: 34 ms\n"
     ]
    }
   ],
   "source": [
    "%time for _i in range (10): [item*3 for item in pylist]"
   ]
  },
  {
   "cell_type": "code",
   "execution_count": 14,
   "id": "fc353bcb-b46b-4147-aec5-5274d59e7fa5",
   "metadata": {},
   "outputs": [
    {
     "name": "stdout",
     "output_type": "stream",
     "text": [
      "CPU times: total: 0 ns\n",
      "Wall time: 995 µs\n"
     ]
    }
   ],
   "source": [
    "%time for _i in range (10): arr = arr*3"
   ]
  },
  {
   "cell_type": "markdown",
   "id": "5933c009-068e-4124-89cb-f578a2610853",
   "metadata": {},
   "source": [
    "# NUMPY ARRAY"
   ]
  },
  {
   "cell_type": "code",
   "execution_count": 15,
   "id": "0d66298d-f7c8-44fe-b5de-bcb59c7b73c7",
   "metadata": {},
   "outputs": [
    {
     "data": {
      "text/plain": [
       "array([ 2,  3,  9, 69, 96])"
      ]
     },
     "execution_count": 15,
     "metadata": {},
     "output_type": "execute_result"
    }
   ],
   "source": [
    "np.array([2,3,9,69,96])"
   ]
  },
  {
   "cell_type": "markdown",
   "id": "5bf1b3d2-391b-40bb-a154-fe2906fa406f",
   "metadata": {},
   "source": [
    "### Functions In Numpy Array"
   ]
  },
  {
   "cell_type": "code",
   "execution_count": 16,
   "id": "f1ab8fc7-b8a1-43b3-84b1-f4372aa979b4",
   "metadata": {},
   "outputs": [
    {
     "name": "stdout",
     "output_type": "stream",
     "text": [
      "[[  2   3   4  50  69]\n",
      " [ 69  90 100  20   4]]\n"
     ]
    }
   ],
   "source": [
    "import numpy as np\n",
    "array1 = np.array([[2,3,4,50,69],[69,90,100,20,4]], dtype = \"int32\")\n",
    "print(array1)"
   ]
  }
 ],
 "metadata": {
  "kernelspec": {
   "display_name": "Python 3 (ipykernel)",
   "language": "python",
   "name": "python3"
  },
  "language_info": {
   "codemirror_mode": {
    "name": "ipython",
    "version": 3
   },
   "file_extension": ".py",
   "mimetype": "text/x-python",
   "name": "python",
   "nbconvert_exporter": "python",
   "pygments_lexer": "ipython3",
   "version": "3.12.2"
  }
 },
 "nbformat": 4,
 "nbformat_minor": 5
}
