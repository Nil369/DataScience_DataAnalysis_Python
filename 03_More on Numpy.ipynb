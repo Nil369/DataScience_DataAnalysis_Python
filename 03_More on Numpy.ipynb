{
 "cells": [
  {
   "cell_type": "markdown",
   "id": "770b30ad-515d-4e20-97b3-731847bd1e8c",
   "metadata": {},
   "source": [
    "# Axis, Sorting & Other useful functions in Numpy"
   ]
  },
  {
   "cell_type": "code",
   "execution_count": 1,
   "id": "1298b2a5-77dc-4d93-928b-17862cafc5e7",
   "metadata": {},
   "outputs": [],
   "source": [
    "import numpy as np"
   ]
  },
  {
   "cell_type": "code",
   "execution_count": 2,
   "id": "8330b18e-4088-409f-ae0a-353cb529fc12",
   "metadata": {},
   "outputs": [],
   "source": [
    "a = np.array([[1,2,3],\n",
    "             [4,5,6]])"
   ]
  },
  {
   "cell_type": "code",
   "execution_count": 3,
   "id": "1ba8f594-96f9-4457-952b-ad1df13cb5da",
   "metadata": {},
   "outputs": [
    {
     "data": {
      "text/plain": [
       "array([5, 7, 9])"
      ]
     },
     "execution_count": 3,
     "metadata": {},
     "output_type": "execute_result"
    }
   ],
   "source": [
    "a.sum(axis = 0) # axis=0 For Column"
   ]
  },
  {
   "cell_type": "code",
   "execution_count": 4,
   "id": "43bf9176-45ca-4e24-baca-702bb9cc77c3",
   "metadata": {},
   "outputs": [
    {
     "data": {
      "text/plain": [
       "array([ 6, 15])"
      ]
     },
     "execution_count": 4,
     "metadata": {},
     "output_type": "execute_result"
    }
   ],
   "source": [
    "a.sum(axis = 1) # axis = 1 for Rows"
   ]
  },
  {
   "cell_type": "code",
   "execution_count": 5,
   "id": "9a8927e3-87a3-4d0e-8d44-9fde6596a0aa",
   "metadata": {},
   "outputs": [],
   "source": [
    "b = np.array([[77,8,90],[21,18,64]])"
   ]
  },
  {
   "cell_type": "code",
   "execution_count": 6,
   "id": "0cba9b2e-4a64-4a0d-9889-8f91658d2070",
   "metadata": {},
   "outputs": [
    {
     "data": {
      "text/plain": [
       "array([[363, 249],\n",
       "       [888, 558]])"
      ]
     },
     "execution_count": 6,
     "metadata": {},
     "output_type": "execute_result"
    }
   ],
   "source": [
    "a.dot(b.transpose())"
   ]
  },
  {
   "cell_type": "code",
   "execution_count": 7,
   "id": "7303b0c9-cfad-45b0-9656-a940c8337ceb",
   "metadata": {},
   "outputs": [
    {
     "data": {
      "text/plain": [
       "591"
      ]
     },
     "execution_count": 7,
     "metadata": {},
     "output_type": "execute_result"
    }
   ],
   "source": [
    "len(dir(np))"
   ]
  },
  {
   "cell_type": "code",
   "execution_count": 8,
   "id": "5dff144d-5478-4a8c-8012-a5c37bb43f97",
   "metadata": {},
   "outputs": [
    {
     "data": {
      "text/plain": [
       "array([[ 156,  141, -146],\n",
       "       [ 212, -130,  -33]])"
      ]
     },
     "execution_count": 8,
     "metadata": {},
     "output_type": "execute_result"
    }
   ],
   "source": [
    "np.cross(a,b)"
   ]
  },
  {
   "cell_type": "code",
   "execution_count": 10,
   "id": "027b9dfc-9a5e-4bec-b486-21217545457f",
   "metadata": {},
   "outputs": [
    {
     "data": {
      "text/plain": [
       "array([[ 8, 77, 90],\n",
       "       [18, 21, 64]])"
      ]
     },
     "execution_count": 10,
     "metadata": {},
     "output_type": "execute_result"
    }
   ],
   "source": [
    "np.sort(b)"
   ]
  },
  {
   "cell_type": "markdown",
   "id": "9f474db5-d3ba-4179-89d8-fde647cfd115",
   "metadata": {},
   "source": [
    "# Numpy Argsort,Argmin, Argmax function"
   ]
  },
  {
   "cell_type": "code",
   "execution_count": 11,
   "id": "9842c6fb-f3e9-4f2f-80e0-1821f96379ed",
   "metadata": {},
   "outputs": [],
   "source": [
    "import numpy as np"
   ]
  },
  {
   "cell_type": "code",
   "execution_count": 12,
   "id": "1c9095ca-7eb7-4d41-9b33-ba3035cd8e37",
   "metadata": {},
   "outputs": [],
   "source": [
    "c = np.arange(18)"
   ]
  },
  {
   "cell_type": "code",
   "execution_count": 13,
   "id": "ff627bc2-8ba8-4023-ba00-0a71a7fb19b6",
   "metadata": {},
   "outputs": [],
   "source": [
    "c = c.reshape(6,3)"
   ]
  },
  {
   "cell_type": "code",
   "execution_count": 14,
   "id": "b32cf1db-6fa4-44cd-a20c-5ef5f71568b4",
   "metadata": {},
   "outputs": [
    {
     "data": {
      "text/plain": [
       "array([[ 0,  1,  2],\n",
       "       [ 3,  4,  5],\n",
       "       [ 6,  7,  8],\n",
       "       [ 9, 10, 11],\n",
       "       [12, 13, 14],\n",
       "       [15, 16, 17]])"
      ]
     },
     "execution_count": 14,
     "metadata": {},
     "output_type": "execute_result"
    }
   ],
   "source": [
    "c"
   ]
  },
  {
   "cell_type": "code",
   "execution_count": 15,
   "id": "b1822e9a-95b3-43ad-95d5-6120f20f5615",
   "metadata": {},
   "outputs": [
    {
     "data": {
      "text/plain": [
       "array([[0, 0, 0],\n",
       "       [1, 1, 1],\n",
       "       [2, 2, 2],\n",
       "       [3, 3, 3],\n",
       "       [4, 4, 4],\n",
       "       [5, 5, 5]], dtype=int64)"
      ]
     },
     "execution_count": 15,
     "metadata": {},
     "output_type": "execute_result"
    }
   ],
   "source": [
    "np.argsort(c, axis = 0)"
   ]
  },
  {
   "cell_type": "code",
   "execution_count": 16,
   "id": "4df3c403-61e4-432e-9a50-058a9a13146c",
   "metadata": {},
   "outputs": [
    {
     "data": {
      "text/plain": [
       "0"
      ]
     },
     "execution_count": 16,
     "metadata": {},
     "output_type": "execute_result"
    }
   ],
   "source": [
    "np.argmin(c)"
   ]
  },
  {
   "cell_type": "code",
   "execution_count": 17,
   "id": "0200e612-e976-4242-9eac-55211778f8ae",
   "metadata": {},
   "outputs": [
    {
     "data": {
      "text/plain": [
       "17"
      ]
     },
     "execution_count": 17,
     "metadata": {},
     "output_type": "execute_result"
    }
   ],
   "source": [
    "np.argmax(c)"
   ]
  }
 ],
 "metadata": {
  "kernelspec": {
   "display_name": "Python 3 (ipykernel)",
   "language": "python",
   "name": "python3"
  },
  "language_info": {
   "codemirror_mode": {
    "name": "ipython",
    "version": 3
   },
   "file_extension": ".py",
   "mimetype": "text/x-python",
   "name": "python",
   "nbconvert_exporter": "python",
   "pygments_lexer": "ipython3",
   "version": "3.12.2"
  }
 },
 "nbformat": 4,
 "nbformat_minor": 5
}
