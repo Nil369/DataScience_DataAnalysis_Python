{
 "cells": [
  {
   "cell_type": "markdown",
   "id": "688abafc-028f-4e86-a9c2-cb3625c5ba29",
   "metadata": {},
   "source": [
    "# WHY TO USE NUMPY ??"
   ]
  },
  {
   "cell_type": "markdown",
   "id": "db783817-4106-49ef-8c95-4a0f35c9bba1",
   "metadata": {},
   "source": [
    "<h2>Numpy is fast</h2> \n",
    "See <b>Python is an interpreted Programming Language</b>(Which means each line is executed one by one) which makes it <b>SLOWER</b>\n",
    "as compared to <b> C / C++ </b> as these Programs are Compiler based which means these are complied first and executed Which is better for computers to understand.\n",
    "\n",
    "\n",
    "🟠Lists in Pythons are basically arrays in C which are linked using Pointer which makes it slower and time consuming for Big Millions and Trillions of data.\n",
    "\n",
    "🔵Here Numpy comes into Play as most of its  its coding is done in C language which makes it faster for handling big data and it takes less time."
   ]
  },
  {
   "cell_type": "code",
   "execution_count": 1,
   "id": "bf7774c4-c261-44de-8435-67a70389293f",
   "metadata": {},
   "outputs": [],
   "source": [
    "import numpy as np"
   ]
  },
  {
   "cell_type": "code",
   "execution_count": 2,
   "id": "3ea0ad2a-98e7-4112-94b6-c838365121d3",
   "metadata": {},
   "outputs": [],
   "source": [
    "arr = np.arange(100000)"
   ]
  },
  {
   "cell_type": "code",
   "execution_count": 3,
   "id": "c23c65c9-5462-4427-8039-1b2d7e080a7c",
   "metadata": {},
   "outputs": [],
   "source": [
    "pylist = list(range(100000))"
   ]
  },
  {
   "cell_type": "code",
   "execution_count": 4,
   "id": "e25bdba6-7e85-40cd-93d6-0d52dfa54fd6",
   "metadata": {},
   "outputs": [
    {
     "name": "stdout",
     "output_type": "stream",
     "text": [
      "CPU times: total: 31.2 ms\n",
      "Wall time: 32 ms\n"
     ]
    }
   ],
   "source": [
    "%time for _i in range (10): [item*3 for item in pylist]"
   ]
  },
  {
   "cell_type": "code",
   "execution_count": 5,
   "id": "fc353bcb-b46b-4147-aec5-5274d59e7fa5",
   "metadata": {},
   "outputs": [
    {
     "name": "stdout",
     "output_type": "stream",
     "text": [
      "CPU times: total: 0 ns\n",
      "Wall time: 1 ms\n"
     ]
    }
   ],
   "source": [
    "%time for _i in range (10): arr = arr*3"
   ]
  },
  {
   "cell_type": "markdown",
   "id": "5933c009-068e-4124-89cb-f578a2610853",
   "metadata": {},
   "source": [
    "# NUMPY ARRAY"
   ]
  },
  {
   "cell_type": "code",
   "execution_count": 6,
   "id": "0d66298d-f7c8-44fe-b5de-bcb59c7b73c7",
   "metadata": {},
   "outputs": [
    {
     "data": {
      "text/plain": [
       "array([ 2,  3,  9, 69, 96])"
      ]
     },
     "execution_count": 6,
     "metadata": {},
     "output_type": "execute_result"
    }
   ],
   "source": [
    "np.array([2,3,9,69,96])"
   ]
  },
  {
   "cell_type": "markdown",
   "id": "5bf1b3d2-391b-40bb-a154-fe2906fa406f",
   "metadata": {},
   "source": [
    "### Functions In Numpy Array"
   ]
  },
  {
   "cell_type": "code",
   "execution_count": 7,
   "id": "f1ab8fc7-b8a1-43b3-84b1-f4372aa979b4",
   "metadata": {},
   "outputs": [
    {
     "name": "stdout",
     "output_type": "stream",
     "text": [
      "[[  2   3   4  50  69]\n",
      " [ 69  90 100  20   4]]\n"
     ]
    }
   ],
   "source": [
    "import numpy as np\n",
    "array1 = np.array([[2,3,4,50,69],[69,90,100,20,4]], dtype = \"int64\")\n",
    "print(array1)"
   ]
  },
  {
   "cell_type": "code",
   "execution_count": 8,
   "id": "e6061f78-0837-47c7-b286-378fa78d0285",
   "metadata": {},
   "outputs": [
    {
     "data": {
      "text/plain": [
       "(2, 5)"
      ]
     },
     "execution_count": 8,
     "metadata": {},
     "output_type": "execute_result"
    }
   ],
   "source": [
    "array1.shape"
   ]
  },
  {
   "cell_type": "code",
   "execution_count": 9,
   "id": "719884ae-148c-4a22-ad31-d6a01901e86b",
   "metadata": {},
   "outputs": [
    {
     "data": {
      "text/plain": [
       "dtype('int64')"
      ]
     },
     "execution_count": 9,
     "metadata": {},
     "output_type": "execute_result"
    }
   ],
   "source": [
    "array1.dtype"
   ]
  },
  {
   "cell_type": "code",
   "execution_count": 10,
   "id": "4ff0dc26-ede3-4254-9d0e-451adc11d758",
   "metadata": {},
   "outputs": [
    {
     "data": {
      "text/plain": [
       "array([[0., 0., 0., 0., 0., 0.],\n",
       "       [0., 0., 0., 0., 0., 0.],\n",
       "       [0., 0., 0., 0., 0., 0.],\n",
       "       [0., 0., 0., 0., 0., 0.]])"
      ]
     },
     "execution_count": 10,
     "metadata": {},
     "output_type": "execute_result"
    }
   ],
   "source": [
    "np.zeros((4,6))"
   ]
  },
  {
   "cell_type": "code",
   "execution_count": 11,
   "id": "d843d844-b7c4-4adc-b4dd-51af68b99e19",
   "metadata": {},
   "outputs": [
    {
     "data": {
      "text/plain": [
       "array([1., 1., 1., 1., 1., 1.])"
      ]
     },
     "execution_count": 11,
     "metadata": {},
     "output_type": "execute_result"
    }
   ],
   "source": [
    "np.ones(6)"
   ]
  },
  {
   "cell_type": "code",
   "execution_count": 12,
   "id": "e0e82bbe-23dd-4729-b004-08ee00091eac",
   "metadata": {},
   "outputs": [
    {
     "data": {
      "text/plain": [
       "array([[0., 0., 0., 0., 0., 0.],\n",
       "       [0., 0., 0., 0., 0., 0.],\n",
       "       [0., 0., 0., 0., 0., 0.],\n",
       "       [0., 0., 0., 0., 0., 0.]])"
      ]
     },
     "execution_count": 12,
     "metadata": {},
     "output_type": "execute_result"
    }
   ],
   "source": [
    "np.empty((4,6))"
   ]
  },
  {
   "cell_type": "code",
   "execution_count": 13,
   "id": "1f9c948a-1821-4868-84c3-51bf0fe1daf7",
   "metadata": {},
   "outputs": [
    {
     "data": {
      "text/plain": [
       "array([[    4,     9,    16,  2500,  4761],\n",
       "       [ 4761,  8100, 10000,   400,    16]], dtype=int64)"
      ]
     },
     "execution_count": 13,
     "metadata": {},
     "output_type": "execute_result"
    }
   ],
   "source": [
    "array1*array1"
   ]
  },
  {
   "cell_type": "markdown",
   "id": "056b9bb5-098d-42aa-ab71-d5088920a5e1",
   "metadata": {},
   "source": [
    "### Slicing in Arrays"
   ]
  },
  {
   "cell_type": "code",
   "execution_count": 14,
   "id": "87962773-9f96-4bf2-8829-63f4c9bcdafc",
   "metadata": {},
   "outputs": [],
   "source": [
    "array2 = np.array([5,4,65,69,100,420])"
   ]
  },
  {
   "cell_type": "code",
   "execution_count": 15,
   "id": "d6c1ed5e-6a3e-4447-9057-dac2b65fc9a5",
   "metadata": {},
   "outputs": [],
   "source": [
    "arr = array2[4:6].copy()"
   ]
  },
  {
   "cell_type": "code",
   "execution_count": 16,
   "id": "5884ec6e-4c65-47c9-8e73-4227df92b506",
   "metadata": {},
   "outputs": [],
   "source": [
    "arr[0] = 9"
   ]
  },
  {
   "cell_type": "code",
   "execution_count": 17,
   "id": "dabda8d0-9319-4355-a622-294ee6d9c47c",
   "metadata": {},
   "outputs": [
    {
     "data": {
      "text/plain": [
       "array([  5,   4,  65,  69, 100, 420])"
      ]
     },
     "execution_count": 17,
     "metadata": {},
     "output_type": "execute_result"
    }
   ],
   "source": [
    "array2"
   ]
  }
 ],
 "metadata": {
  "kernelspec": {
   "display_name": "Python 3 (ipykernel)",
   "language": "python",
   "name": "python3"
  },
  "language_info": {
   "codemirror_mode": {
    "name": "ipython",
    "version": 3
   },
   "file_extension": ".py",
   "mimetype": "text/x-python",
   "name": "python",
   "nbconvert_exporter": "python",
   "pygments_lexer": "ipython3",
   "version": "3.12.2"
  }
 },
 "nbformat": 4,
 "nbformat_minor": 5
}
